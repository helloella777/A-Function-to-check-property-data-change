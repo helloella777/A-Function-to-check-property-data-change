{
 "cells": [
  {
   "cell_type": "code",
   "execution_count": null,
   "metadata": {},
   "outputs": [],
   "source": [
    "import xlrd\n",
    "import os\n",
    "import pandas as pd\n",
    "import numpy as np\n",
    "import math"
   ]
  },
  {
   "cell_type": "code",
   "execution_count": null,
   "metadata": {},
   "outputs": [],
   "source": [
    "old=pd.read_excel('0812 Property Master List.xlsx')\n",
    "new=pd.read_excel('0826 Property Master List.xlsx')"
   ]
  },
  {
   "cell_type": "code",
   "execution_count": null,
   "metadata": {},
   "outputs": [],
   "source": [
    "old.shape"
   ]
  },
  {
   "cell_type": "code",
   "execution_count": null,
   "metadata": {},
   "outputs": [],
   "source": [
    "new.shape"
   ]
  },
  {
   "cell_type": "code",
   "execution_count": null,
   "metadata": {},
   "outputs": [],
   "source": [
    "merged = pd.merge(old, new, on = 'Property Code', indicator= True, how = 'outer')\n",
    "merged.columns = ['Property Code', 'Former Status','Former Capacity','Former RSF','Status','Capacity','RSF','merge']\n"
   ]
  },
  {
   "cell_type": "code",
   "execution_count": null,
   "metadata": {},
   "outputs": [],
   "source": [
    "old_only = merged[merged['merge'] == 'right_only']\n",
    "old_only"
   ]
  },
  {
   "cell_type": "code",
   "execution_count": null,
   "metadata": {},
   "outputs": [],
   "source": [
    "new_only = merged[merged['merge'] == 'left_only']\n",
    "new_only"
   ]
  },
  {
   "cell_type": "code",
   "execution_count": null,
   "metadata": {},
   "outputs": [],
   "source": [
    "conditions = [\n",
    "    \n",
    "    (pd.isnull(merged['Former Status'])|merged['Former Status'].str.contains('Future')) & merged['Status'].str.contains('Open'),\n",
    "    (merged['Status'].str.contains('Closed') & merged['Former Status'].str.contains('Open')),   \n",
    "    (merged['Former Capacity'] > merged['Capacity']) | (merged['Former RSF'] > merged['RSF']) , \n",
    "    (merged['Former Capacity'] < merged['Capacity']) | (merged['Former RSF'] < merged['RSF'])\n",
    "]\n",
    "\n",
    "choices = ['New Site','Decom','Downsizing','Expansion']\n",
    "\n",
    "merged['Change reason'] = np.select(conditions, choices, default=\"\")"
   ]
  },
  {
   "cell_type": "code",
   "execution_count": null,
   "metadata": {},
   "outputs": [],
   "source": [
    "change1=merged[merged['Change reason'].str.contains('Downsizing|Expansion|New site|Decom')]\n",
    "change1"
   ]
  },
  {
   "cell_type": "code",
   "execution_count": null,
   "metadata": {},
   "outputs": [],
   "source": [
    "total=pd.concat([change1,old_only], axis=0, ignore_index=True,sort=False)"
   ]
  },
  {
   "cell_type": "code",
   "execution_count": null,
   "metadata": {},
   "outputs": [],
   "source": [
    "result = total.drop_duplicates(subset='Property Code', keep='first')\n",
    "result['RSF Change']=result['RSF']- result['Former RSF']\n",
    "result['Capacity Change']=result['Capacity']- result['Former Capacity']"
   ]
  },
  {
   "cell_type": "code",
   "execution_count": null,
   "metadata": {},
   "outputs": [],
   "source": [
    "output=pd.merge(new1,result1, on ='Property Code', how = 'inner')\n",
    "output"
   ]
  }
 ],
 "metadata": {
  "kernelspec": {
   "display_name": "Python 3",
   "language": "python",
   "name": "python3"
  },
  "language_info": {
   "codemirror_mode": {
    "name": "ipython",
    "version": 3
   },
   "file_extension": ".py",
   "mimetype": "text/x-python",
   "name": "python",
   "nbconvert_exporter": "python",
   "pygments_lexer": "ipython3",
   "version": "3.7.3"
  }
 },
 "nbformat": 4,
 "nbformat_minor": 2
}
